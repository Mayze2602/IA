{
 "cells": [
  {
   "cell_type": "code",
   "execution_count": 54,
   "metadata": {},
   "outputs": [],
   "source": [
    "# Importar las librerías para hacer el grafo y para graficarlo\n",
    "import networkx as nx\n",
    "import matplotlib.pyplot as plt"
   ]
  },
  {
   "cell_type": "code",
   "execution_count": 55,
   "metadata": {},
   "outputs": [],
   "source": [
    "# Se define la estructura de un grafo direccinado vacía\n",
    "G = nx.DiGraph()"
   ]
  },
  {
   "cell_type": "code",
   "execution_count": 56,
   "metadata": {},
   "outputs": [],
   "source": [
    "# Se añaden los nodos que conformarán el grafo\n",
    "G.add_nodes_from(['Cozumel','Ciudad del Carmen','Angel Albino Corzo','Minatitlan','Veracruz',\n",
    "                  'Acapulco', 'Puebla', 'CDMX', 'Morelia', 'Uruapan',\n",
    "                  'San Luis Potosi', 'Tampico','Piedras Negras', 'Culiacan', 'Abraham Gonzalez',\n",
    "                  'Nogales', 'Guaymas', 'Loreto', 'Manuel Marquez de Leon', 'Los Cabos'\n",
    "                  ])"
   ]
  },
  {
   "cell_type": "code",
   "execution_count": 57,
   "metadata": {},
   "outputs": [
    {
     "name": "stdout",
     "output_type": "stream",
     "text": [
      "['Cozumel', 'Ciudad del Carmen', 'Angel Albino Corzo', 'Minatitlan', 'Veracruz', 'Acapulco', 'Puebla', 'CDMX', 'Morelia', 'Uruapan', 'San Luis Potosi', 'Tampico', 'Piedras Negras', 'Culiacan', 'Abraham Gonzalez', 'Nogales', 'Guaymas', 'Loreto', 'Manuel Marquez de Leon', 'Los Cabos']\n"
     ]
    }
   ],
   "source": [
    "# Revisamos que los nodos hayan sido añadidos\n",
    "print(G.nodes())"
   ]
  },
  {
   "cell_type": "code",
   "execution_count": 58,
   "metadata": {},
   "outputs": [],
   "source": [
    "# Se expresan las relaciones entre los nodos y el coste de transición\n",
    "#  En este caso se especifica un grafo no dirigido con pesos iguales\n",
    "G.add_edges_from([\n",
    "('Cozumel', 'Tampico', {'weight': 17}),\n",
    "('Ciudad Del Carmen', 'Cozumel', {'weight': 15}),\n",
    "('Angel Albino Corzo', 'Ciudad Del Carmen', {'weight': 11}),\n",
    "('Angel Albino Corzo', 'Minatitlan', {'weight': 15}),\n",
    "('Angel Albino Corzo', 'Acapulco', {'weight': 1}),\n",
    "('Minatitlan', 'Ciudad Del Carmen', {'weight': 16}),\n",
    "('Minatitlan', 'Veracruz', {'weight': 18}),\n",
    "('Acapulco', 'Morelia', {'weight': 14}),\n",
    "('Acapulco', 'Uruapan', {'weight': 14}),\n",
    "('Puebla', 'Veracruz', {'weight': 12}),\n",
    "('Puebla', 'Acapulco', {'weight': 19}),\n",
    "('Cdmx', 'Acapulco', {'weight': 4}),\n",
    "('Morelia', 'CDMX', {'weight': 15}),\n",
    "('Morelia', 'San Luis Potosi', {'weight': 11}),\n",
    "('Uruapan', 'Culiacan', {'weight': 15}),\n",
    "('San Luis Potosi', 'Abraham Gonzalez', {'weight': 15}),\n",
    "('Tampico', 'Puebla', {'weight': 7}),\n",
    "('Tampico', 'CDMX', {'weight': 8}),\n",
    "('Tampico', 'San Luis Potosi', {'weight': 11}),\n",
    "('Piedras Negras', 'San Luis Potosi', {'weight': 11}),\n",
    "('Piedras Negras', 'Tampico', {'weight': 16}),\n",
    "('Culiacan', 'Piedras Negras', {'weight': 8}),\n",
    "('Culiacan', 'Guaymas', {'weight': 16}),\n",
    "('Abraham Gonzalez', 'Piedras Negras', {'weight': 15}),\n",
    "('Nogales', 'Abraham Gonzalez', {'weight': 6}),\n",
    "('Guaymas', 'Abraham Gonzalez', {'weight': 18}),\n",
    "('Guaymas', 'Nogales', {'weight': 5}),\n",
    "('Guaymas', 'Loreto', {'weight': 13}),\n",
    "('Loreto', 'Manuel Marquez De Leon', {'weight': 15}),\n",
    "('Manuel Marquez De Leon', 'Culiacan', {'weight': 14}),\n",
    "('Manuel Marquez De Leon', 'Los Cabos', {'weight': 10}),\n",
    "])"
   ]
  },
  {
   "cell_type": "code",
   "execution_count": 59,
   "metadata": {},
   "outputs": [
    {
     "name": "stdout",
     "output_type": "stream",
     "text": [
      "El camino más corto es: ['Cdmx', 'Acapulco', 'Uruapan', 'Culiacan', 'Piedras Negras', 'Tampico']\n"
     ]
    }
   ],
   "source": [
    "def dijkstra(grafo, inicio, meta):\n",
    "    inicio = inicio.title()\n",
    "    meta = meta.title()\n",
    "    \n",
    "    distances = {vertex: float('infinity') for vertex in grafo.nodes}\n",
    "    previous = {vertex: None for vertex in grafo.nodes}\n",
    "    distances[inicio] = 0\n",
    "    \n",
    "    nodes = list(grafo.nodes)\n",
    "\n",
    "    while nodes:\n",
    "        current_min_node = None\n",
    "        for node in nodes:\n",
    "            if current_min_node is None:\n",
    "                current_min_node = node\n",
    "            elif distances[node] < distances[current_min_node]:\n",
    "                current_min_node = node\n",
    "\n",
    "\n",
    "        if distances[current_min_node] == float('infinity'):\n",
    "            break\n",
    "\n",
    "        for neighbor in grafo.neighbors(current_min_node):\n",
    "            tentative_value = distances[current_min_node] + grafo[current_min_node][neighbor]['weight']\n",
    "            if tentative_value < distances[neighbor]:\n",
    "                distances[neighbor] = tentative_value\n",
    "                previous[neighbor] = current_min_node\n",
    "        \n",
    "        nodes.remove(current_min_node)\n",
    "\n",
    "    path = []\n",
    "    current_vertex = meta\n",
    "    while current_vertex is not None:\n",
    "        path.insert(0, current_vertex)\n",
    "        current_vertex = previous[current_vertex]\n",
    "\n",
    "    if path[0] != inicio:\n",
    "        return \"No se encontró un camino\", []\n",
    "\n",
    "    return path\n",
    "\n",
    "inicio = input(\"Ingrese el nodo de inicio: \")\n",
    "meta = input(\"Ingrese el nodo objetivo: \")\n",
    "\n",
    "\n",
    "camino = dijkstra(G, inicio, meta)\n",
    "print(\"El camino más corto es:\", camino)"
   ]
  }
 ],
 "metadata": {
  "kernelspec": {
   "display_name": "venv",
   "language": "python",
   "name": "python3"
  },
  "language_info": {
   "codemirror_mode": {
    "name": "ipython",
    "version": 3
   },
   "file_extension": ".py",
   "mimetype": "text/x-python",
   "name": "python",
   "nbconvert_exporter": "python",
   "pygments_lexer": "ipython3",
   "version": "3.10.11"
  }
 },
 "nbformat": 4,
 "nbformat_minor": 2
}
