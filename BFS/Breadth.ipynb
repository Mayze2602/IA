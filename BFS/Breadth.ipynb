{
 "cells": [
  {
   "cell_type": "code",
   "execution_count": 22,
   "metadata": {},
   "outputs": [],
   "source": [
    "# Importar las librerías para hacer el grafo y para graficarlo\n",
    "import networkx as nx\n",
    "import matplotlib.pyplot as plt"
   ]
  },
  {
   "cell_type": "code",
   "execution_count": 23,
   "metadata": {},
   "outputs": [],
   "source": [
    "# Se define la estructura de un grafo direccinado vacía\n",
    "G = nx.DiGraph()"
   ]
  },
  {
   "cell_type": "code",
   "execution_count": 24,
   "metadata": {},
   "outputs": [],
   "source": [
    "# Se añaden los nodos que conformarán el grafo\n",
    "G.add_nodes_from(['Cozumel','Ciudad del Carmen','Angel Albino Corzo','Minatitlan','Veracruz',\n",
    "                  'Acapulco', 'Puebla', 'CDMX', 'Morelia', 'Uruapan',\n",
    "                  'San Luis Potosi', 'Tampico','Piedras Negras', 'Culiacan', 'Abraham Gonzalez',\n",
    "                  'Nogales', 'Guaymas', 'Loreto', 'Manuel Marquez de Leon', 'Los Cabos'\n",
    "                  ])"
   ]
  },
  {
   "cell_type": "code",
   "execution_count": 25,
   "metadata": {},
   "outputs": [
    {
     "name": "stdout",
     "output_type": "stream",
     "text": [
      "['Cozumel', 'Ciudad del Carmen', 'Angel Albino Corzo', 'Minatitlan', 'Veracruz', 'Acapulco', 'Puebla', 'CDMX', 'Morelia', 'Uruapan', 'San Luis Potosi', 'Tampico', 'Piedras Negras', 'Culiacan', 'Abraham Gonzalez', 'Nogales', 'Guaymas', 'Loreto', 'Manuel Marquez de Leon', 'Los Cabos']\n"
     ]
    }
   ],
   "source": [
    "# Revisamos que los nodos hayan sido añadidos\n",
    "print(G.nodes())"
   ]
  },
  {
   "cell_type": "code",
   "execution_count": 26,
   "metadata": {},
   "outputs": [],
   "source": [
    "# Se expresan las relaciones entre los nodos y el coste de transición\n",
    "#  En este caso se especifica un grafo no dirigido con pesos iguales\n",
    "G.add_edges_from([\n",
    "('Cozumel', 'Tampico', {'weight': 17}),\n",
    "('Ciudad Del Carmen', 'Cozumel', {'weight': 15}),\n",
    "('Angel Albino Corzo', 'Ciudad Del Carmen', {'weight': 11}),\n",
    "('Angel Albino Corzo', 'Minatitlan', {'weight': 15}),\n",
    "('Angel Albino Corzo', 'Acapulco', {'weight': 1}),\n",
    "('Minatitlan', 'Ciudad Del Carmen', {'weight': 16}),\n",
    "('Minatitlan', 'Veracruz', {'weight': 18}),\n",
    "('Acapulco', 'Morelia', {'weight': 14}),\n",
    "('Acapulco', 'Uruapan', {'weight': 14}),\n",
    "('Puebla', 'Veracruz', {'weight': 12}),\n",
    "('Puebla', 'Acapulco', {'weight': 19}),\n",
    "('Cdmx', 'Acapulco', {'weight': 4}),\n",
    "('Morelia', 'Cdmx', {'weight': 15}),\n",
    "('Morelia', 'San Luis Potosi', {'weight': 11}),\n",
    "('Uruapan', 'Culiacan', {'weight': 15}),\n",
    "('San Luis Potosi', 'Abraham Gonzalez', {'weight': 15}),\n",
    "('Tampico', 'Puebla', {'weight': 7}),\n",
    "('Tampico', 'Cdmx', {'weight': 8}),\n",
    "('Tampico', 'San Luis Potosi', {'weight': 11}),\n",
    "('Piedras Negras', 'San Luis Potosi', {'weight': 11}),\n",
    "('Piedras Negras', 'Tampico', {'weight': 16}),\n",
    "('Culiacan', 'Piedras Negras', {'weight': 8}),\n",
    "('Culiacan', 'Guaymas', {'weight': 16}),\n",
    "('Abraham Gonzalez', 'Piedras Negras', {'weight': 15}),\n",
    "('Nogales', 'Abraham Gonzalez', {'weight': 6}),\n",
    "('Guaymas', 'Abraham Gonzalez', {'weight': 18}),\n",
    "('Guaymas', 'Nogales', {'weight': 5}),\n",
    "('Guaymas', 'Loreto', {'weight': 13}),\n",
    "('Loreto', 'Manuel Marquez De Leon', {'weight': 15}),\n",
    "('Manuel Marquez De Leon', 'Culiacan', {'weight': 14}),\n",
    "('Manuel Marquez De Leon', 'Los Cabos', {'weight': 10}),\n",
    "])"
   ]
  },
  {
   "cell_type": "code",
   "execution_count": 27,
   "metadata": {},
   "outputs": [],
   "source": [
    "def bfs(graph, start_node, goal_node):\n",
    "    start_node = start_node.title()\n",
    "    goal_node = goal_node.title()\n",
    "\n",
    "    if start_node == goal_node:\n",
    "        return [start_node]\n",
    "    \n",
    "\n",
    "    frontier = [(start_node, [start_node])]\n",
    "    reached = set()\n",
    "    \n",
    "    while frontier:\n",
    "        current_node, path = frontier.pop(0)\n",
    "        \n",
    "        if current_node not in reached:\n",
    "            reached.add(current_node)\n",
    "            \n",
    "            for child in graph.successors(current_node):\n",
    "                if child == goal_node:\n",
    "                    return path + [child] \n",
    "                else:\n",
    "                    frontier.append((child, path + [child]))\n",
    "    \n",
    "    return 'No se encontró un camino'\n",
    "\n"
   ]
  },
  {
   "cell_type": "code",
   "execution_count": 28,
   "metadata": {},
   "outputs": [
    {
     "data": {
      "text/plain": [
       "['Cozumel', 'Tampico', 'Cdmx']"
      ]
     },
     "execution_count": 28,
     "metadata": {},
     "output_type": "execute_result"
    }
   ],
   "source": [
    "start_node = input('Nodo de inicio: ')\n",
    "end_node = input('Nodo de destino: ')\n",
    "bfs(G, start_node, end_node)"
   ]
  }
 ],
 "metadata": {
  "kernelspec": {
   "display_name": "venv",
   "language": "python",
   "name": "python3"
  },
  "language_info": {
   "codemirror_mode": {
    "name": "ipython",
    "version": 3
   },
   "file_extension": ".py",
   "mimetype": "text/x-python",
   "name": "python",
   "nbconvert_exporter": "python",
   "pygments_lexer": "ipython3",
   "version": "3.10.11"
  }
 },
 "nbformat": 4,
 "nbformat_minor": 2
}
