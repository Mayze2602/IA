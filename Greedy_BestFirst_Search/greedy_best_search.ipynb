{
 "cells": [
  {
   "cell_type": "code",
   "execution_count": 2,
   "metadata": {},
   "outputs": [],
   "source": [
    "# Importar las librerías para hacer el grafo y para graficarlo\n",
    "import networkx as nx\n",
    "import matplotlib.pyplot as plt\n",
    "import random"
   ]
  },
  {
   "cell_type": "code",
   "execution_count": 3,
   "metadata": {},
   "outputs": [],
   "source": [
    "# Se define la estructura de un grafo direccinado vacía\n",
    "G = nx.DiGraph()"
   ]
  },
  {
   "cell_type": "code",
   "execution_count": 4,
   "metadata": {},
   "outputs": [],
   "source": [
    "# Se añaden los nodos que conformarán el grafo\n",
    "G.add_nodes_from(['Cozumel','Ciudad del Carmen','Angel Albino Corzo','Minatitlan','Veracruz',\n",
    "                  'Acapulco', 'Puebla', 'CDMX', 'Morelia', 'Uruapan',\n",
    "                  'San Luis Potosi', 'Tampico','Piedras Negras', 'Culiacan', 'Abraham Gonzalez',\n",
    "                  'Nogales', 'Guaymas', 'Loreto', 'Manuel Marquez de Leon', 'Los Cabos'\n",
    "                  ])"
   ]
  },
  {
   "cell_type": "code",
   "execution_count": 5,
   "metadata": {},
   "outputs": [
    {
     "name": "stdout",
     "output_type": "stream",
     "text": [
      "['Cozumel', 'Ciudad del Carmen', 'Angel Albino Corzo', 'Minatitlan', 'Veracruz', 'Acapulco', 'Puebla', 'CDMX', 'Morelia', 'Uruapan', 'San Luis Potosi', 'Tampico', 'Piedras Negras', 'Culiacan', 'Abraham Gonzalez', 'Nogales', 'Guaymas', 'Loreto', 'Manuel Marquez de Leon', 'Los Cabos']\n"
     ]
    }
   ],
   "source": [
    "# Revisamos que los nodos hayan sido añadidos\n",
    "print(G.nodes())"
   ]
  },
  {
   "cell_type": "code",
   "execution_count": 6,
   "metadata": {},
   "outputs": [],
   "source": [
    "# Se expresan las relaciones entre los nodos y el coste de transición\n",
    "#  En este caso se especifica un grafo no dirigido con pesos iguales\n",
    "G.add_edges_from([\n",
    "('Cozumel', 'Tampico', {'weight': 17}),\n",
    "('Ciudad Del Carmen', 'Cozumel', {'weight': 15}),\n",
    "('Angel Albino Corzo', 'Ciudad Del Carmen', {'weight': 11}),\n",
    "('Angel Albino Corzo', 'Minatitlan', {'weight': 15}),\n",
    "('Angel Albino Corzo', 'Acapulco', {'weight': 1}),\n",
    "('Minatitlan', 'Ciudad Del Carmen', {'weight': 16}),\n",
    "('Minatitlan', 'Veracruz', {'weight': 18}),\n",
    "('Acapulco', 'Morelia', {'weight': 14}),\n",
    "('Acapulco', 'Uruapan', {'weight': 14}),\n",
    "('Puebla', 'Veracruz', {'weight': 12}),\n",
    "('Puebla', 'Acapulco', {'weight': 19}),\n",
    "('CDMX', 'Acapulco', {'weight': 4}),\n",
    "('Morelia', 'CDMX', {'weight': 15}),\n",
    "('Morelia', 'San Luis Potosi', {'weight': 11}),\n",
    "('Uruapan', 'Culiacan', {'weight': 15}),\n",
    "('San Luis Potosi', 'Abraham Gonzalez', {'weight': 15}),\n",
    "('Tampico', 'CDMX', {'weight': 8}),\n",
    "('Tampico', 'Puebla', {'weight': 7}),\n",
    "('Tampico', 'San Luis Potosi', {'weight': 11}),\n",
    "('Piedras Negras', 'San Luis Potosi', {'weight': 11}),\n",
    "('Piedras Negras', 'Tampico', {'weight': 16}),\n",
    "('Culiacan', 'Piedras Negras', {'weight': 8}),\n",
    "('Culiacan', 'Guaymas', {'weight': 16}),\n",
    "('Abraham Gonzalez', 'Piedras Negras', {'weight': 15}),\n",
    "('Nogales', 'Abraham Gonzalez', {'weight': 6}),\n",
    "('Guaymas', 'Abraham Gonzalez', {'weight': 18}),\n",
    "('Guaymas', 'Nogales', {'weight': 5}),\n",
    "('Guaymas', 'Loreto', {'weight': 13}),\n",
    "('Loreto', 'Manuel Marquez De Leon', {'weight': 15}),\n",
    "('Manuel Marquez De Leon', 'Culiacan', {'weight': 14}),\n",
    "('Manuel Marquez De Leon', 'Los Cabos', {'weight': 10}),\n",
    "])"
   ]
  },
  {
   "cell_type": "code",
   "execution_count": 7,
   "metadata": {},
   "outputs": [],
   "source": [
    "def heuristic(G, goal, seed):\n",
    "    random.seed(seed)\n",
    "    h = {vertex: random.randint(1, 100) if vertex != goal else 0 for vertex in G.nodes()}\n",
    "    return h"
   ]
  },
  {
   "cell_type": "code",
   "execution_count": 12,
   "metadata": {},
   "outputs": [
    {
     "data": {
      "text/plain": [
       "{'Cozumel': 67,\n",
       " 'Ciudad del Carmen': 54,\n",
       " 'Angel Albino Corzo': 39,\n",
       " 'Minatitlan': 47,\n",
       " 'Veracruz': 38,\n",
       " 'Acapulco': 23,\n",
       " 'Puebla': 99,\n",
       " 'CDMX': 91,\n",
       " 'Morelia': 91,\n",
       " 'Uruapan': 70,\n",
       " 'San Luis Potosi': 85,\n",
       " 'Tampico': 36,\n",
       " 'Piedras Negras': 15,\n",
       " 'Culiacan': 4,\n",
       " 'Abraham Gonzalez': 32,\n",
       " 'Nogales': 50,\n",
       " 'Guaymas': 96,\n",
       " 'Loreto': 54,\n",
       " 'Manuel Marquez de Leon': 33,\n",
       " 'Los Cabos': 0,\n",
       " 'Ciudad Del Carmen': 65,\n",
       " 'Manuel Marquez De Leon': 41}"
      ]
     },
     "execution_count": 12,
     "metadata": {},
     "output_type": "execute_result"
    }
   ],
   "source": [
    "heuristic(G, 'Los Cabos', 17)"
   ]
  },
  {
   "cell_type": "code",
   "execution_count": 11,
   "metadata": {},
   "outputs": [
    {
     "ename": "KeyboardInterrupt",
     "evalue": "",
     "output_type": "error",
     "traceback": [
      "\u001b[1;31m---------------------------------------------------------------------------\u001b[0m",
      "\u001b[1;31mKeyboardInterrupt\u001b[0m                         Traceback (most recent call last)",
      "Cell \u001b[1;32mIn[11], line 14\u001b[0m\n\u001b[0;32m     11\u001b[0m         path\u001b[38;5;241m.\u001b[39mappend(current)\n\u001b[0;32m     12\u001b[0m     \u001b[38;5;28;01mreturn\u001b[39;00m path\n\u001b[1;32m---> 14\u001b[0m \u001b[43mgreedy_best_first_search\u001b[49m\u001b[43m(\u001b[49m\u001b[43mG\u001b[49m\u001b[43m,\u001b[49m\u001b[43m \u001b[49m\u001b[38;5;124;43m'\u001b[39;49m\u001b[38;5;124;43mCozumel\u001b[39;49m\u001b[38;5;124;43m'\u001b[39;49m\u001b[43m,\u001b[49m\u001b[43m \u001b[49m\u001b[38;5;124;43m'\u001b[39;49m\u001b[38;5;124;43mLos Cabos\u001b[39;49m\u001b[38;5;124;43m'\u001b[39;49m\u001b[43m,\u001b[49m\u001b[43m \u001b[49m\u001b[38;5;241;43m17\u001b[39;49m\u001b[43m)\u001b[49m\n",
      "Cell \u001b[1;32mIn[11], line 10\u001b[0m, in \u001b[0;36mgreedy_best_first_search\u001b[1;34m(G, start, goal, seed)\u001b[0m\n\u001b[0;32m      8\u001b[0m     \u001b[38;5;28;01mif\u001b[39;00m \u001b[38;5;129;01mnot\u001b[39;00m neighbors:\n\u001b[0;32m      9\u001b[0m         \u001b[38;5;28;01mreturn\u001b[39;00m \u001b[38;5;28;01mNone\u001b[39;00m\n\u001b[1;32m---> 10\u001b[0m     current \u001b[38;5;241m=\u001b[39m \u001b[38;5;28;43mmin\u001b[39;49m\u001b[43m(\u001b[49m\u001b[43mneighbors\u001b[49m\u001b[43m,\u001b[49m\u001b[43m \u001b[49m\u001b[43mkey\u001b[49m\u001b[38;5;241;43m=\u001b[39;49m\u001b[38;5;28;43;01mlambda\u001b[39;49;00m\u001b[43m \u001b[49m\u001b[43mx\u001b[49m\u001b[43m:\u001b[49m\u001b[43m \u001b[49m\u001b[43mh\u001b[49m\u001b[43m[\u001b[49m\u001b[43mx\u001b[49m\u001b[43m]\u001b[49m\u001b[43m)\u001b[49m\n\u001b[0;32m     11\u001b[0m     path\u001b[38;5;241m.\u001b[39mappend(current)\n\u001b[0;32m     12\u001b[0m \u001b[38;5;28;01mreturn\u001b[39;00m path\n",
      "File \u001b[1;32mc:\\Users\\juane\\OneDrive\\Desktop\\IA\\venv\\lib\\site-packages\\networkx\\classes\\coreviews.py:50\u001b[0m, in \u001b[0;36mAtlasView.__iter__\u001b[1;34m(self)\u001b[0m\n\u001b[0;32m     49\u001b[0m \u001b[38;5;28;01mdef\u001b[39;00m \u001b[38;5;21m__iter__\u001b[39m(\u001b[38;5;28mself\u001b[39m):\n\u001b[1;32m---> 50\u001b[0m     \u001b[38;5;28;01mreturn\u001b[39;00m \u001b[38;5;28;43miter\u001b[39;49m\u001b[43m(\u001b[49m\u001b[38;5;28;43mself\u001b[39;49m\u001b[38;5;241;43m.\u001b[39;49m\u001b[43m_atlas\u001b[49m\u001b[43m)\u001b[49m\n",
      "\u001b[1;31mKeyboardInterrupt\u001b[0m: "
     ]
    }
   ],
   "source": [
    "#Create the greedy best first search algorithm based solely on the heuristic\n",
    "def greedy_best_first_search(G, start, goal, seed):\n",
    "    h = heuristic(G, goal, seed)\n",
    "    current = start\n",
    "    path = [current]\n",
    "    while current != goal:\n",
    "        neighbors = G[current]\n",
    "        if not neighbors:\n",
    "            return None\n",
    "        current = min(neighbors, key=lambda x: h[x])\n",
    "        path.append(current)\n",
    "    return path\n",
    "\n",
    "greedy_best_first_search(G, 'Cozumel', 'Los Cabos', 17)"
   ]
  }
 ],
 "metadata": {
  "kernelspec": {
   "display_name": "venv",
   "language": "python",
   "name": "python3"
  },
  "language_info": {
   "codemirror_mode": {
    "name": "ipython",
    "version": 3
   },
   "file_extension": ".py",
   "mimetype": "text/x-python",
   "name": "python",
   "nbconvert_exporter": "python",
   "pygments_lexer": "ipython3",
   "version": "3.10.11"
  }
 },
 "nbformat": 4,
 "nbformat_minor": 2
}
