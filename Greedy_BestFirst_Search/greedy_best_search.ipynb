{
 "cells": [
  {
   "cell_type": "code",
   "execution_count": 1,
   "metadata": {},
   "outputs": [],
   "source": [
    "# Importar las librerías para hacer el grafo y para graficarlo\n",
    "import networkx as nx\n",
    "import matplotlib.pyplot as plt\n",
    "import random\n",
    "import heapq"
   ]
  },
  {
   "cell_type": "code",
   "execution_count": 2,
   "metadata": {},
   "outputs": [],
   "source": [
    "# Se define la estructura de un grafo direccinado vacía\n",
    "G = nx.DiGraph()"
   ]
  },
  {
   "cell_type": "code",
   "execution_count": 3,
   "metadata": {},
   "outputs": [],
   "source": [
    "# Se añaden los nodos que conformarán el grafo\n",
    "G.add_nodes_from(['Cozumel','Ciudad del Carmen','Angel Albino Corzo','Minatitlan','Veracruz',\n",
    "                  'Acapulco', 'Puebla', 'CDMX', 'Morelia', 'Uruapan',\n",
    "                  'San Luis Potosi', 'Tampico','Piedras Negras', 'Culiacan', 'Abraham Gonzalez',\n",
    "                  'Nogales', 'Guaymas', 'Loreto', 'Manuel Marquez de Leon', 'Los Cabos'\n",
    "                  ])"
   ]
  },
  {
   "cell_type": "code",
   "execution_count": 4,
   "metadata": {},
   "outputs": [
    {
     "name": "stdout",
     "output_type": "stream",
     "text": [
      "['Cozumel', 'Ciudad del Carmen', 'Angel Albino Corzo', 'Minatitlan', 'Veracruz', 'Acapulco', 'Puebla', 'CDMX', 'Morelia', 'Uruapan', 'San Luis Potosi', 'Tampico', 'Piedras Negras', 'Culiacan', 'Abraham Gonzalez', 'Nogales', 'Guaymas', 'Loreto', 'Manuel Marquez de Leon', 'Los Cabos']\n"
     ]
    }
   ],
   "source": [
    "# Revisamos que los nodos hayan sido añadidos\n",
    "print(G.nodes())"
   ]
  },
  {
   "cell_type": "code",
   "execution_count": 5,
   "metadata": {},
   "outputs": [],
   "source": [
    "# Se expresan las relaciones entre los nodos y el coste de transición\n",
    "#  En este caso se especifica un grafo no dirigido con pesos iguales\n",
    "G.add_edges_from([\n",
    "('Cozumel', 'Tampico', {'weight': 17}),\n",
    "('Ciudad Del Carmen', 'Cozumel', {'weight': 15}),\n",
    "('Angel Albino Corzo', 'Ciudad Del Carmen', {'weight': 11}),\n",
    "('Angel Albino Corzo', 'Minatitlan', {'weight': 15}),\n",
    "('Angel Albino Corzo', 'Acapulco', {'weight': 1}),\n",
    "('Minatitlan', 'Ciudad Del Carmen', {'weight': 16}),\n",
    "('Minatitlan', 'Veracruz', {'weight': 18}),\n",
    "('Acapulco', 'Morelia', {'weight': 14}),\n",
    "('Acapulco', 'Uruapan', {'weight': 14}),\n",
    "('Puebla', 'Veracruz', {'weight': 12}),\n",
    "('Puebla', 'Acapulco', {'weight': 19}),\n",
    "('CDMX', 'Acapulco', {'weight': 4}),\n",
    "('Morelia', 'CDMX', {'weight': 15}),\n",
    "('Morelia', 'San Luis Potosi', {'weight': 11}),\n",
    "('Uruapan', 'Culiacan', {'weight': 15}),\n",
    "('San Luis Potosi', 'Abraham Gonzalez', {'weight': 15}),\n",
    "('Tampico', 'CDMX', {'weight': 8}),\n",
    "('Tampico', 'Puebla', {'weight': 7}),\n",
    "('Tampico', 'San Luis Potosi', {'weight': 11}),\n",
    "('Piedras Negras', 'San Luis Potosi', {'weight': 11}),\n",
    "('Piedras Negras', 'Tampico', {'weight': 16}),\n",
    "('Culiacan', 'Piedras Negras', {'weight': 8}),\n",
    "('Culiacan', 'Guaymas', {'weight': 16}),\n",
    "('Abraham Gonzalez', 'Piedras Negras', {'weight': 15}),\n",
    "('Nogales', 'Abraham Gonzalez', {'weight': 6}),\n",
    "('Guaymas', 'Abraham Gonzalez', {'weight': 18}),\n",
    "('Guaymas', 'Nogales', {'weight': 5}),\n",
    "('Guaymas', 'Loreto', {'weight': 13}),\n",
    "('Loreto', 'Manuel Marquez De Leon', {'weight': 15}),\n",
    "('Manuel Marquez De Leon', 'Culiacan', {'weight': 14}),\n",
    "('Manuel Marquez De Leon', 'Los Cabos', {'weight': 10}),\n",
    "])"
   ]
  },
  {
   "cell_type": "code",
   "execution_count": 6,
   "metadata": {},
   "outputs": [],
   "source": [
    "def heuristic(G, goal, seed):\n",
    "    random.seed(seed)\n",
    "    h = {vertex: random.randint(1, 100) if vertex != goal else 0 for vertex in G.nodes()}\n",
    "    return h\n"
   ]
  },
  {
   "cell_type": "code",
   "execution_count": 7,
   "metadata": {},
   "outputs": [
    {
     "data": {
      "text/plain": [
       "{'Cozumel': 67,\n",
       " 'Ciudad del Carmen': 54,\n",
       " 'Angel Albino Corzo': 39,\n",
       " 'Minatitlan': 47,\n",
       " 'Veracruz': 38,\n",
       " 'Acapulco': 23,\n",
       " 'Puebla': 99,\n",
       " 'CDMX': 91,\n",
       " 'Morelia': 91,\n",
       " 'Uruapan': 70,\n",
       " 'San Luis Potosi': 85,\n",
       " 'Tampico': 36,\n",
       " 'Piedras Negras': 15,\n",
       " 'Culiacan': 4,\n",
       " 'Abraham Gonzalez': 32,\n",
       " 'Nogales': 50,\n",
       " 'Guaymas': 96,\n",
       " 'Loreto': 54,\n",
       " 'Manuel Marquez de Leon': 33,\n",
       " 'Los Cabos': 0,\n",
       " 'Ciudad Del Carmen': 65,\n",
       " 'Manuel Marquez De Leon': 41}"
      ]
     },
     "execution_count": 7,
     "metadata": {},
     "output_type": "execute_result"
    }
   ],
   "source": [
    "heuristic(G, 'Los Cabos', 17)"
   ]
  },
  {
   "cell_type": "code",
   "execution_count": 9,
   "metadata": {},
   "outputs": [
    {
     "name": "stdout",
     "output_type": "stream",
     "text": [
      "Cozumel\n",
      "Tampico\n",
      "San Luis Potosi\n",
      "Abraham Gonzalez\n",
      "Piedras Negras\n",
      "CDMX\n",
      "Acapulco\n",
      "Uruapan\n",
      "Culiacan\n",
      "Morelia\n",
      "Guaymas\n",
      "Nogales\n",
      "Loreto\n",
      "Manuel Marquez De Leon\n"
     ]
    }
   ],
   "source": [
    "#Greedy_best_first_search\n"
   ]
  },
  {
   "cell_type": "code",
   "execution_count": null,
   "metadata": {},
   "outputs": [],
   "source": []
  }
 ],
 "metadata": {
  "kernelspec": {
   "display_name": "venv",
   "language": "python",
   "name": "python3"
  },
  "language_info": {
   "codemirror_mode": {
    "name": "ipython",
    "version": 3
   },
   "file_extension": ".py",
   "mimetype": "text/x-python",
   "name": "python",
   "nbconvert_exporter": "python",
   "pygments_lexer": "ipython3",
   "version": "3.10.11"
  }
 },
 "nbformat": 4,
 "nbformat_minor": 2
}
